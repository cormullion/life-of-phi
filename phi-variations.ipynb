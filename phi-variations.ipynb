{
 "cells": [
  {
   "cell_type": "markdown",
   "metadata": {},
   "source": [
    "The Greek letter Phi is used throughout Greece, maths, physics, and computing. There are about 20 different versions of the glyph in the Unicode tables. If you run this code you'll see the versions for the current font. (In a Jupyter notebook the font is probably Courier; in Atom/Juno it's the theme font you've set in preferences; in a Terminal it's whatever you've chosen.)"
   ]
  },
  {
   "cell_type": "code",
   "execution_count": 9,
   "metadata": {},
   "outputs": [
    {
     "name": "stdout",
     "output_type": "stream",
     "text": [
      "Phi\tLATEX               UNICODE   UNICODE DESCRIPTION                                                                                 \n",
      "ɸ\t\\textphi            278       LATIN SMALL LETTER PHI                                                                              \n",
      "Φ\t\\Phi                3a6       GREEK CAPITAL LETTER PHI                                                                            \n",
      "φ\t\\varphi             3c6       GREEK SMALL LETTER PHI for Greek text, and Maths prefers this loopy glyph                           \n",
      "ϕ\t\\phi                3d5       GREEK PHI SYMBOL used as a technical symbol, with a stroked glyph                                   \n",
      "ᵠ\t\\^phi               1d60      MODIFIER LETTER SMALL GREEK PHI                                                                     \n",
      "ᵩ\t\\_phi               1d69      GREEK SUBSCRIPT SMALL LETTER PHI                                                                    \n",
      "ᶲ\t\\^Phi               1db2      MODIFIER LETTER SMALL PHI                                                                           \n",
      "𝚽\t\\mbfPhi             1d6bd     MATHEMATICAL BOLD CAPITAL PHI                                                                       \n",
      "𝛗\t\\mbfvarphi          1d6d7     MATHEMATICAL BOLD SMALL PHI                                                                         \n",
      "𝛟\t\\mbfphi             1d6df     MATHEMATICAL BOLD PHI SYMBOL                                                                        \n",
      "𝛷\t\\mitPhi             1d6f7     MATHEMATICAL ITALIC CAPITAL PHI                                                                     \n",
      "𝜑\t\\mitphi             1d711     MATHEMATICAL ITALIC SMALL PHI                                                                       \n",
      "𝜙\t\\mitvarphi          1d719     MATHEMATICAL ITALIC PHI SYMBOL                                                                      \n",
      "𝝋\t\\mbfitphi           1d74b     MATHEMATICAL BOLD ITALIC SMALL PHI                                                                  \n",
      "𝝓\t\\mbfitvarphi        1d753     MATHEMATICAL BOLD ITALIC PHI SYMBOL                                                                 \n",
      "𝞅\t\\mbfsansphi         1d785     MATHEMATICAL SANS-SERIF BOLD SMALL PHI                                                              \n",
      "𝞍\t\\mbfsansvarphi      1d78d     MATHEMATICAL SANS-SERIF BOLD PHI SYMBOL                                                             \n",
      "𝞥\t\\mbfitsansPhi       1d7a5     MATHEMATICAL SANS-SERIF BOLD ITALIC CAPITAL PHI                                                     \n",
      "𝞿\t\\mbfitsansphi       1d7bf     MATHEMATICAL SANS-SERIF BOLD ITALIC SMALL PHI                                                       \n",
      "𝟇\t\\mbfitsansvarphi    1d7c7     MATHEMATICAL SANS-SERIF BOLD ITALIC PHI SYMBOL                                                      \n"
     ]
    }
   ],
   "source": [
    "philist = Array[\n",
    "    [\"\\\\textphi\",         \"LATIN SMALL LETTER PHI\"],\n",
    "    [\"\\\\Phi\",             \"GREEK CAPITAL LETTER PHI\"],\n",
    "    [\"\\\\varphi\",          \"GREEK SMALL LETTER PHI for Greek text, and Maths prefers this loopy glyph\"],\n",
    "    [\"\\\\phi\",             \"GREEK PHI SYMBOL used as a technical symbol, with a stroked glyph\"],\n",
    "    [\"\\\\^phi\",            \"MODIFIER LETTER SMALL GREEK PHI\"],\n",
    "    [\"\\\\_phi\",            \"GREEK SUBSCRIPT SMALL LETTER PHI\"],\n",
    "    [\"\\\\^Phi\",            \"MODIFIER LETTER SMALL PHI\"],\n",
    "    [\"\\\\mbfPhi\",          \"MATHEMATICAL BOLD CAPITAL PHI\"],\n",
    "    [\"\\\\mbfvarphi\",       \"MATHEMATICAL BOLD SMALL PHI\"],\n",
    "    [\"\\\\mbfphi\",          \"MATHEMATICAL BOLD PHI SYMBOL\"],\n",
    "    [\"\\\\mitPhi\",          \"MATHEMATICAL ITALIC CAPITAL PHI\"],\n",
    "    [\"\\\\mitphi\",          \"MATHEMATICAL ITALIC SMALL PHI\"],\n",
    "    [\"\\\\mitvarphi\",       \"MATHEMATICAL ITALIC PHI SYMBOL\"],\n",
    "    [\"\\\\mbfitphi\",        \"MATHEMATICAL BOLD ITALIC SMALL PHI\"],\n",
    "    [\"\\\\mbfitvarphi\",     \"MATHEMATICAL BOLD ITALIC PHI SYMBOL\"],\n",
    "    [\"\\\\mbfsansphi\",      \"MATHEMATICAL SANS-SERIF BOLD SMALL PHI\"],\n",
    "    [\"\\\\mbfsansvarphi\",   \"MATHEMATICAL SANS-SERIF BOLD PHI SYMBOL\"],\n",
    "    [\"\\\\mbfitsansPhi\",    \"MATHEMATICAL SANS-SERIF BOLD ITALIC CAPITAL PHI\"],\n",
    "    [\"\\\\mbfitsansphi\",    \"MATHEMATICAL SANS-SERIF BOLD ITALIC SMALL PHI\"],\n",
    "    [\"\\\\mbfitsansvarphi\", \"MATHEMATICAL SANS-SERIF BOLD ITALIC PHI SYMBOL\"]\n",
    "]\n",
    "\n",
    "begin\n",
    "    println(\"Phi\", \"\\t\", join(rpad.([\"LATEX\", \"UNICODE\", \"UNICODE DESCRIPTION\"], [20, 10, 100])))\n",
    "    for (n, s) in enumerate(philist)\n",
    "        phisymbol = Base.REPLCompletions.latex_symbols[s[1]]\n",
    "        latexkb = s[1]\n",
    "        hexchar = hex(Base.REPLCompletions.latex_symbols[s[1]][1])\n",
    "        unicodename = philist[n][2]\n",
    "        println(phisymbol, \"\\t\", join(rpad.([latexkb, hexchar, unicodename], [20, 10, 100])))\n",
    "    end\n",
    "end"
   ]
  },
  {
   "cell_type": "markdown",
   "metadata": {},
   "source": [
    "In Julia, the Golden Ratio Phi, 1.618... is available as the constant `golden`. It's represented as the `\\\\varphi` characater, and you can type it in the REPL with the LATEX completion `\\\\varphi`. The Unicode character code of this is `3c6`. "
   ]
  },
  {
   "cell_type": "raw",
   "metadata": {},
   "source": [
    "julia> hex(\"φ\"[1])\n",
    "\"3c6\""
   ]
  },
  {
   "cell_type": "code",
   "execution_count": 10,
   "metadata": {},
   "outputs": [
    {
     "data": {
      "text/plain": [
       "φ = 1.6180339887498..."
      ]
     },
     "execution_count": 10,
     "metadata": {},
     "output_type": "execute_result"
    }
   ],
   "source": [
    "φ"
   ]
  },
  {
   "cell_type": "raw",
   "metadata": {},
   "source": [
    "julia> φ = 12\n",
    "WARNING: imported binding for φ overwritten in module Main\n",
    "12"
   ]
  },
  {
   "cell_type": "markdown",
   "metadata": {},
   "source": [
    "The `\\\\varphi` version of Phi is called \"the loopy\" version in the Unicode documentation:"
   ]
  },
  {
   "cell_type": "markdown",
   "metadata": {},
   "source": [
    "(http://unicode.org/reports/tr25/)\n",
    "\n",
    ">For mathematical and technical use, the straight form φ of the small phi is an important symbol (TEX \\phi U+03D5) and needs to be consistently distinguishable from the loopy form (TEX \\varphi U+03C6). The straight form phi glyph ϕ is used as the representative glyph for the phi symbol at U+03D5 to satisfy this distinction.\n",
    "\n",
    ">... U+03C6 ... should be reserved for codes or entities that represent the small phi as used in ordinary Greek text."
   ]
  },
  {
   "cell_type": "markdown",
   "metadata": {},
   "source": [
    "Most fonts draw the loopy Phi glyph using a loop, but a few fonts don't make the distinction. "
   ]
  },
  {
   "cell_type": "markdown",
   "metadata": {},
   "source": [
    "This code running in Jupyter/IJulia shows the phi's in some fonts that I've got installed. For example, notice that LucidaConsole shows the \"loopy\" versions of Phi only when drawing the Maths versions, and otherwise shows the same kind of design for each glyph. Also, Consolas looks to have swapped the `\\\\phi` and `\\\\varphi` characters around, which is odd. (I'm running on a Mac; on other platforms different things may happen...)"
   ]
  },
  {
   "cell_type": "code",
   "execution_count": 11,
   "metadata": {},
   "outputs": [
    {
     "data": {
      "text/html": [
       "    <font size=\"3em\", face=Helvetica>Helvetica</font>: \n",
       "\\phi     = <font size=\"5em\", face=\"Helvetica\">ϕ</font>,\n",
       "\\Phi     = <font size=\"5em\", face=\"Helvetica\">Φ</font>,\n",
       "\\textphi = <font size=\"5em\", face=\"Helvetica\">ɸ</font>,\n",
       "\\varphi  = <font size=\"5em\", face=\"Helvetica\">φ</font>\n",
       "<br />"
      ],
      "text/plain": [
       "HTML(\"    <font size=\\\"3em\\\", face=Helvetica>Helvetica</font>: \\n\\\\phi     = <font size=\\\"5em\\\", face=\\\"Helvetica\\\">ϕ</font>,\\n\\\\Phi     = <font size=\\\"5em\\\", face=\\\"Helvetica\\\">Φ</font>,\\n\\\\textphi = <font size=\\\"5em\\\", face=\\\"Helvetica\\\">ɸ</font>,\\n\\\\varphi  = <font size=\\\"5em\\\", face=\\\"Helvetica\\\">φ</font>\\n<br />\")"
      ]
     },
     "metadata": {},
     "output_type": "display_data"
    },
    {
     "data": {
      "text/html": [
       "    <font size=\"3em\", face=Times>Times</font>: \n",
       "\\phi     = <font size=\"5em\", face=\"Times\">ϕ</font>,\n",
       "\\Phi     = <font size=\"5em\", face=\"Times\">Φ</font>,\n",
       "\\textphi = <font size=\"5em\", face=\"Times\">ɸ</font>,\n",
       "\\varphi  = <font size=\"5em\", face=\"Times\">φ</font>\n",
       "<br />"
      ],
      "text/plain": [
       "HTML(\"    <font size=\\\"3em\\\", face=Times>Times</font>: \\n\\\\phi     = <font size=\\\"5em\\\", face=\\\"Times\\\">ϕ</font>,\\n\\\\Phi     = <font size=\\\"5em\\\", face=\\\"Times\\\">Φ</font>,\\n\\\\textphi = <font size=\\\"5em\\\", face=\\\"Times\\\">ɸ</font>,\\n\\\\varphi  = <font size=\\\"5em\\\", face=\\\"Times\\\">φ</font>\\n<br />\")"
      ]
     },
     "metadata": {},
     "output_type": "display_data"
    },
    {
     "data": {
      "text/html": [
       "    <font size=\"3em\", face=Impact>Impact</font>: \n",
       "\\phi     = <font size=\"5em\", face=\"Impact\">ϕ</font>,\n",
       "\\Phi     = <font size=\"5em\", face=\"Impact\">Φ</font>,\n",
       "\\textphi = <font size=\"5em\", face=\"Impact\">ɸ</font>,\n",
       "\\varphi  = <font size=\"5em\", face=\"Impact\">φ</font>\n",
       "<br />"
      ],
      "text/plain": [
       "HTML(\"    <font size=\\\"3em\\\", face=Impact>Impact</font>: \\n\\\\phi     = <font size=\\\"5em\\\", face=\\\"Impact\\\">ϕ</font>,\\n\\\\Phi     = <font size=\\\"5em\\\", face=\\\"Impact\\\">Φ</font>,\\n\\\\textphi = <font size=\\\"5em\\\", face=\\\"Impact\\\">ɸ</font>,\\n\\\\varphi  = <font size=\\\"5em\\\", face=\\\"Impact\\\">φ</font>\\n<br />\")"
      ]
     },
     "metadata": {},
     "output_type": "display_data"
    },
    {
     "data": {
      "text/html": [
       "    <font size=\"3em\", face=AnonymousPro>AnonymousPro</font>: \n",
       "\\phi     = <font size=\"5em\", face=\"AnonymousPro\">ϕ</font>,\n",
       "\\Phi     = <font size=\"5em\", face=\"AnonymousPro\">Φ</font>,\n",
       "\\textphi = <font size=\"5em\", face=\"AnonymousPro\">ɸ</font>,\n",
       "\\varphi  = <font size=\"5em\", face=\"AnonymousPro\">φ</font>\n",
       "<br />"
      ],
      "text/plain": [
       "HTML(\"    <font size=\\\"3em\\\", face=AnonymousPro>AnonymousPro</font>: \\n\\\\phi     = <font size=\\\"5em\\\", face=\\\"AnonymousPro\\\">ϕ</font>,\\n\\\\Phi     = <font size=\\\"5em\\\", face=\\\"AnonymousPro\\\">Φ</font>,\\n\\\\textphi = <font size=\\\"5em\\\", face=\\\"AnonymousPro\\\">ɸ</font>,\\n\\\\varphi  = <font size=\\\"5em\\\", face=\\\"AnonymousPro\\\">φ</font>\\n<br />\")"
      ]
     },
     "metadata": {},
     "output_type": "display_data"
    },
    {
     "data": {
      "text/html": [
       "    <font size=\"3em\", face=Consolas>Consolas</font>: \n",
       "\\phi     = <font size=\"5em\", face=\"Consolas\">ϕ</font>,\n",
       "\\Phi     = <font size=\"5em\", face=\"Consolas\">Φ</font>,\n",
       "\\textphi = <font size=\"5em\", face=\"Consolas\">ɸ</font>,\n",
       "\\varphi  = <font size=\"5em\", face=\"Consolas\">φ</font>\n",
       "<br />"
      ],
      "text/plain": [
       "HTML(\"    <font size=\\\"3em\\\", face=Consolas>Consolas</font>: \\n\\\\phi     = <font size=\\\"5em\\\", face=\\\"Consolas\\\">ϕ</font>,\\n\\\\Phi     = <font size=\\\"5em\\\", face=\\\"Consolas\\\">Φ</font>,\\n\\\\textphi = <font size=\\\"5em\\\", face=\\\"Consolas\\\">ɸ</font>,\\n\\\\varphi  = <font size=\\\"5em\\\", face=\\\"Consolas\\\">φ</font>\\n<br />\")"
      ]
     },
     "metadata": {},
     "output_type": "display_data"
    },
    {
     "data": {
      "text/html": [
       "    <font size=\"3em\", face=Courier>Courier</font>: \n",
       "\\phi     = <font size=\"5em\", face=\"Courier\">ϕ</font>,\n",
       "\\Phi     = <font size=\"5em\", face=\"Courier\">Φ</font>,\n",
       "\\textphi = <font size=\"5em\", face=\"Courier\">ɸ</font>,\n",
       "\\varphi  = <font size=\"5em\", face=\"Courier\">φ</font>\n",
       "<br />"
      ],
      "text/plain": [
       "HTML(\"    <font size=\\\"3em\\\", face=Courier>Courier</font>: \\n\\\\phi     = <font size=\\\"5em\\\", face=\\\"Courier\\\">ϕ</font>,\\n\\\\Phi     = <font size=\\\"5em\\\", face=\\\"Courier\\\">Φ</font>,\\n\\\\textphi = <font size=\\\"5em\\\", face=\\\"Courier\\\">ɸ</font>,\\n\\\\varphi  = <font size=\\\"5em\\\", face=\\\"Courier\\\">φ</font>\\n<br />\")"
      ]
     },
     "metadata": {},
     "output_type": "display_data"
    },
    {
     "data": {
      "text/html": [
       "    <font size=\"3em\", face=Courier New>Courier New</font>: \n",
       "\\phi     = <font size=\"5em\", face=\"Courier New\">ϕ</font>,\n",
       "\\Phi     = <font size=\"5em\", face=\"Courier New\">Φ</font>,\n",
       "\\textphi = <font size=\"5em\", face=\"Courier New\">ɸ</font>,\n",
       "\\varphi  = <font size=\"5em\", face=\"Courier New\">φ</font>\n",
       "<br />"
      ],
      "text/plain": [
       "HTML(\"    <font size=\\\"3em\\\", face=Courier New>Courier New</font>: \\n\\\\phi     = <font size=\\\"5em\\\", face=\\\"Courier New\\\">ϕ</font>,\\n\\\\Phi     = <font size=\\\"5em\\\", face=\\\"Courier New\\\">Φ</font>,\\n\\\\textphi = <font size=\\\"5em\\\", face=\\\"Courier New\\\">ɸ</font>,\\n\\\\varphi  = <font size=\\\"5em\\\", face=\\\"Courier New\\\">φ</font>\\n<br />\")"
      ]
     },
     "metadata": {},
     "output_type": "display_data"
    },
    {
     "data": {
      "text/html": [
       "    <font size=\"3em\", face=DejaVuSansMono>DejaVuSansMono</font>: \n",
       "\\phi     = <font size=\"5em\", face=\"DejaVuSansMono\">ϕ</font>,\n",
       "\\Phi     = <font size=\"5em\", face=\"DejaVuSansMono\">Φ</font>,\n",
       "\\textphi = <font size=\"5em\", face=\"DejaVuSansMono\">ɸ</font>,\n",
       "\\varphi  = <font size=\"5em\", face=\"DejaVuSansMono\">φ</font>\n",
       "<br />"
      ],
      "text/plain": [
       "HTML(\"    <font size=\\\"3em\\\", face=DejaVuSansMono>DejaVuSansMono</font>: \\n\\\\phi     = <font size=\\\"5em\\\", face=\\\"DejaVuSansMono\\\">ϕ</font>,\\n\\\\Phi     = <font size=\\\"5em\\\", face=\\\"DejaVuSansMono\\\">Φ</font>,\\n\\\\textphi = <font size=\\\"5em\\\", face=\\\"DejaVuSansMono\\\">ɸ</font>,\\n\\\\varphi  = <font size=\\\"5em\\\", face=\\\"DejaVuSansMono\\\">φ</font>\\n<br />\")"
      ]
     },
     "metadata": {},
     "output_type": "display_data"
    },
    {
     "data": {
      "text/html": [
       "    <font size=\"3em\", face=Inconsolata>Inconsolata</font>: \n",
       "\\phi     = <font size=\"5em\", face=\"Inconsolata\">ϕ</font>,\n",
       "\\Phi     = <font size=\"5em\", face=\"Inconsolata\">Φ</font>,\n",
       "\\textphi = <font size=\"5em\", face=\"Inconsolata\">ɸ</font>,\n",
       "\\varphi  = <font size=\"5em\", face=\"Inconsolata\">φ</font>\n",
       "<br />"
      ],
      "text/plain": [
       "HTML(\"    <font size=\\\"3em\\\", face=Inconsolata>Inconsolata</font>: \\n\\\\phi     = <font size=\\\"5em\\\", face=\\\"Inconsolata\\\">ϕ</font>,\\n\\\\Phi     = <font size=\\\"5em\\\", face=\\\"Inconsolata\\\">Φ</font>,\\n\\\\textphi = <font size=\\\"5em\\\", face=\\\"Inconsolata\\\">ɸ</font>,\\n\\\\varphi  = <font size=\\\"5em\\\", face=\\\"Inconsolata\\\">φ</font>\\n<br />\")"
      ]
     },
     "metadata": {},
     "output_type": "display_data"
    },
    {
     "data": {
      "text/html": [
       "    <font size=\"3em\", face=InputMono>InputMono</font>: \n",
       "\\phi     = <font size=\"5em\", face=\"InputMono\">ϕ</font>,\n",
       "\\Phi     = <font size=\"5em\", face=\"InputMono\">Φ</font>,\n",
       "\\textphi = <font size=\"5em\", face=\"InputMono\">ɸ</font>,\n",
       "\\varphi  = <font size=\"5em\", face=\"InputMono\">φ</font>\n",
       "<br />"
      ],
      "text/plain": [
       "HTML(\"    <font size=\\\"3em\\\", face=InputMono>InputMono</font>: \\n\\\\phi     = <font size=\\\"5em\\\", face=\\\"InputMono\\\">ϕ</font>,\\n\\\\Phi     = <font size=\\\"5em\\\", face=\\\"InputMono\\\">Φ</font>,\\n\\\\textphi = <font size=\\\"5em\\\", face=\\\"InputMono\\\">ɸ</font>,\\n\\\\varphi  = <font size=\\\"5em\\\", face=\\\"InputMono\\\">φ</font>\\n<br />\")"
      ]
     },
     "metadata": {},
     "output_type": "display_data"
    },
    {
     "data": {
      "text/html": [
       "    <font size=\"3em\", face=LucidaConsole>LucidaConsole</font>: \n",
       "\\phi     = <font size=\"5em\", face=\"LucidaConsole\">ϕ</font>,\n",
       "\\Phi     = <font size=\"5em\", face=\"LucidaConsole\">Φ</font>,\n",
       "\\textphi = <font size=\"5em\", face=\"LucidaConsole\">ɸ</font>,\n",
       "\\varphi  = <font size=\"5em\", face=\"LucidaConsole\">φ</font>\n",
       "<br />"
      ],
      "text/plain": [
       "HTML(\"    <font size=\\\"3em\\\", face=LucidaConsole>LucidaConsole</font>: \\n\\\\phi     = <font size=\\\"5em\\\", face=\\\"LucidaConsole\\\">ϕ</font>,\\n\\\\Phi     = <font size=\\\"5em\\\", face=\\\"LucidaConsole\\\">Φ</font>,\\n\\\\textphi = <font size=\\\"5em\\\", face=\\\"LucidaConsole\\\">ɸ</font>,\\n\\\\varphi  = <font size=\\\"5em\\\", face=\\\"LucidaConsole\\\">φ</font>\\n<br />\")"
      ]
     },
     "metadata": {},
     "output_type": "display_data"
    },
    {
     "data": {
      "text/html": [
       "    <font size=\"3em\", face=Ubuntu Mono>Ubuntu Mono</font>: \n",
       "\\phi     = <font size=\"5em\", face=\"Ubuntu Mono\">ϕ</font>,\n",
       "\\Phi     = <font size=\"5em\", face=\"Ubuntu Mono\">Φ</font>,\n",
       "\\textphi = <font size=\"5em\", face=\"Ubuntu Mono\">ɸ</font>,\n",
       "\\varphi  = <font size=\"5em\", face=\"Ubuntu Mono\">φ</font>\n",
       "<br />"
      ],
      "text/plain": [
       "HTML(\"    <font size=\\\"3em\\\", face=Ubuntu Mono>Ubuntu Mono</font>: \\n\\\\phi     = <font size=\\\"5em\\\", face=\\\"Ubuntu Mono\\\">ϕ</font>,\\n\\\\Phi     = <font size=\\\"5em\\\", face=\\\"Ubuntu Mono\\\">Φ</font>,\\n\\\\textphi = <font size=\\\"5em\\\", face=\\\"Ubuntu Mono\\\">ɸ</font>,\\n\\\\varphi  = <font size=\\\"5em\\\", face=\\\"Ubuntu Mono\\\">φ</font>\\n<br />\")"
      ]
     },
     "metadata": {},
     "output_type": "display_data"
    },
    {
     "data": {
      "text/html": [
       "    <font size=\"3em\", face=Menlo>Menlo</font>: \n",
       "\\phi     = <font size=\"5em\", face=\"Menlo\">ϕ</font>,\n",
       "\\Phi     = <font size=\"5em\", face=\"Menlo\">Φ</font>,\n",
       "\\textphi = <font size=\"5em\", face=\"Menlo\">ɸ</font>,\n",
       "\\varphi  = <font size=\"5em\", face=\"Menlo\">φ</font>\n",
       "<br />"
      ],
      "text/plain": [
       "HTML(\"    <font size=\\\"3em\\\", face=Menlo>Menlo</font>: \\n\\\\phi     = <font size=\\\"5em\\\", face=\\\"Menlo\\\">ϕ</font>,\\n\\\\Phi     = <font size=\\\"5em\\\", face=\\\"Menlo\\\">Φ</font>,\\n\\\\textphi = <font size=\\\"5em\\\", face=\\\"Menlo\\\">ɸ</font>,\\n\\\\varphi  = <font size=\\\"5em\\\", face=\\\"Menlo\\\">φ</font>\\n<br />\")"
      ]
     },
     "metadata": {},
     "output_type": "display_data"
    },
    {
     "data": {
      "text/html": [
       "    <font size=\"3em\", face=Monaco>Monaco</font>: \n",
       "\\phi     = <font size=\"5em\", face=\"Monaco\">ϕ</font>,\n",
       "\\Phi     = <font size=\"5em\", face=\"Monaco\">Φ</font>,\n",
       "\\textphi = <font size=\"5em\", face=\"Monaco\">ɸ</font>,\n",
       "\\varphi  = <font size=\"5em\", face=\"Monaco\">φ</font>\n",
       "<br />"
      ],
      "text/plain": [
       "HTML(\"    <font size=\\\"3em\\\", face=Monaco>Monaco</font>: \\n\\\\phi     = <font size=\\\"5em\\\", face=\\\"Monaco\\\">ϕ</font>,\\n\\\\Phi     = <font size=\\\"5em\\\", face=\\\"Monaco\\\">Φ</font>,\\n\\\\textphi = <font size=\\\"5em\\\", face=\\\"Monaco\\\">ɸ</font>,\\n\\\\varphi  = <font size=\\\"5em\\\", face=\\\"Monaco\\\">φ</font>\\n<br />\")"
      ]
     },
     "metadata": {},
     "output_type": "display_data"
    },
    {
     "data": {
      "text/html": [
       "    <font size=\"3em\", face=Osaka>Osaka</font>: \n",
       "\\phi     = <font size=\"5em\", face=\"Osaka\">ϕ</font>,\n",
       "\\Phi     = <font size=\"5em\", face=\"Osaka\">Φ</font>,\n",
       "\\textphi = <font size=\"5em\", face=\"Osaka\">ɸ</font>,\n",
       "\\varphi  = <font size=\"5em\", face=\"Osaka\">φ</font>\n",
       "<br />"
      ],
      "text/plain": [
       "HTML(\"    <font size=\\\"3em\\\", face=Osaka>Osaka</font>: \\n\\\\phi     = <font size=\\\"5em\\\", face=\\\"Osaka\\\">ϕ</font>,\\n\\\\Phi     = <font size=\\\"5em\\\", face=\\\"Osaka\\\">Φ</font>,\\n\\\\textphi = <font size=\\\"5em\\\", face=\\\"Osaka\\\">ɸ</font>,\\n\\\\varphi  = <font size=\\\"5em\\\", face=\\\"Osaka\\\">φ</font>\\n<br />\")"
      ]
     },
     "metadata": {},
     "output_type": "display_data"
    },
    {
     "data": {
      "text/html": [
       "    <font size=\"3em\", face=PTMono-Regular>PTMono-Regular</font>: \n",
       "\\phi     = <font size=\"5em\", face=\"PTMono-Regular\">ϕ</font>,\n",
       "\\Phi     = <font size=\"5em\", face=\"PTMono-Regular\">Φ</font>,\n",
       "\\textphi = <font size=\"5em\", face=\"PTMono-Regular\">ɸ</font>,\n",
       "\\varphi  = <font size=\"5em\", face=\"PTMono-Regular\">φ</font>\n",
       "<br />"
      ],
      "text/plain": [
       "HTML(\"    <font size=\\\"3em\\\", face=PTMono-Regular>PTMono-Regular</font>: \\n\\\\phi     = <font size=\\\"5em\\\", face=\\\"PTMono-Regular\\\">ϕ</font>,\\n\\\\Phi     = <font size=\\\"5em\\\", face=\\\"PTMono-Regular\\\">Φ</font>,\\n\\\\textphi = <font size=\\\"5em\\\", face=\\\"PTMono-Regular\\\">ɸ</font>,\\n\\\\varphi  = <font size=\\\"5em\\\", face=\\\"PTMono-Regular\\\">φ</font>\\n<br />\")"
      ]
     },
     "metadata": {},
     "output_type": "display_data"
    },
    {
     "data": {
      "text/html": [
       "    <font size=\"3em\", face=LucidaSansUnicode>LucidaSansUnicode</font>: \n",
       "\\phi     = <font size=\"5em\", face=\"LucidaSansUnicode\">ϕ</font>,\n",
       "\\Phi     = <font size=\"5em\", face=\"LucidaSansUnicode\">Φ</font>,\n",
       "\\textphi = <font size=\"5em\", face=\"LucidaSansUnicode\">ɸ</font>,\n",
       "\\varphi  = <font size=\"5em\", face=\"LucidaSansUnicode\">φ</font>\n",
       "<br />"
      ],
      "text/plain": [
       "HTML(\"    <font size=\\\"3em\\\", face=LucidaSansUnicode>LucidaSansUnicode</font>: \\n\\\\phi     = <font size=\\\"5em\\\", face=\\\"LucidaSansUnicode\\\">ϕ</font>,\\n\\\\Phi     = <font size=\\\"5em\\\", face=\\\"LucidaSansUnicode\\\">Φ</font>,\\n\\\\textphi = <font size=\\\"5em\\\", face=\\\"LucidaSansUnicode\\\">ɸ</font>,\\n\\\\varphi  = <font size=\\\"5em\\\", face=\\\"LucidaSansUnicode\\\">φ</font>\\n<br />\")"
      ]
     },
     "metadata": {},
     "output_type": "display_data"
    },
    {
     "data": {
      "text/html": [
       "    <font size=\"3em\", face=Source Code Mono>Source Code Mono</font>: \n",
       "\\phi     = <font size=\"5em\", face=\"Source Code Mono\">ϕ</font>,\n",
       "\\Phi     = <font size=\"5em\", face=\"Source Code Mono\">Φ</font>,\n",
       "\\textphi = <font size=\"5em\", face=\"Source Code Mono\">ɸ</font>,\n",
       "\\varphi  = <font size=\"5em\", face=\"Source Code Mono\">φ</font>\n",
       "<br />"
      ],
      "text/plain": [
       "HTML(\"    <font size=\\\"3em\\\", face=Source Code Mono>Source Code Mono</font>: \\n\\\\phi     = <font size=\\\"5em\\\", face=\\\"Source Code Mono\\\">ϕ</font>,\\n\\\\Phi     = <font size=\\\"5em\\\", face=\\\"Source Code Mono\\\">Φ</font>,\\n\\\\textphi = <font size=\\\"5em\\\", face=\\\"Source Code Mono\\\">ɸ</font>,\\n\\\\varphi  = <font size=\\\"5em\\\", face=\\\"Source Code Mono\\\">φ</font>\\n<br />\")"
      ]
     },
     "metadata": {},
     "output_type": "display_data"
    },
    {
     "data": {
      "text/html": [
       "    <font size=\"3em\", face=TeX Gyre Cursor>TeX Gyre Cursor</font>: \n",
       "\\phi     = <font size=\"5em\", face=\"TeX Gyre Cursor\">ϕ</font>,\n",
       "\\Phi     = <font size=\"5em\", face=\"TeX Gyre Cursor\">Φ</font>,\n",
       "\\textphi = <font size=\"5em\", face=\"TeX Gyre Cursor\">ɸ</font>,\n",
       "\\varphi  = <font size=\"5em\", face=\"TeX Gyre Cursor\">φ</font>\n",
       "<br />"
      ],
      "text/plain": [
       "HTML(\"    <font size=\\\"3em\\\", face=TeX Gyre Cursor>TeX Gyre Cursor</font>: \\n\\\\phi     = <font size=\\\"5em\\\", face=\\\"TeX Gyre Cursor\\\">ϕ</font>,\\n\\\\Phi     = <font size=\\\"5em\\\", face=\\\"TeX Gyre Cursor\\\">Φ</font>,\\n\\\\textphi = <font size=\\\"5em\\\", face=\\\"TeX Gyre Cursor\\\">ɸ</font>,\\n\\\\varphi  = <font size=\\\"5em\\\", face=\\\"TeX Gyre Cursor\\\">φ</font>\\n<br />\")"
      ]
     },
     "metadata": {},
     "output_type": "display_data"
    },
    {
     "data": {
      "text/html": [
       "    <font size=\"3em\", face=Vitesse>Vitesse</font>: \n",
       "\\phi     = <font size=\"5em\", face=\"Vitesse\">ϕ</font>,\n",
       "\\Phi     = <font size=\"5em\", face=\"Vitesse\">Φ</font>,\n",
       "\\textphi = <font size=\"5em\", face=\"Vitesse\">ɸ</font>,\n",
       "\\varphi  = <font size=\"5em\", face=\"Vitesse\">φ</font>\n",
       "<br />"
      ],
      "text/plain": [
       "HTML(\"    <font size=\\\"3em\\\", face=Vitesse>Vitesse</font>: \\n\\\\phi     = <font size=\\\"5em\\\", face=\\\"Vitesse\\\">ϕ</font>,\\n\\\\Phi     = <font size=\\\"5em\\\", face=\\\"Vitesse\\\">Φ</font>,\\n\\\\textphi = <font size=\\\"5em\\\", face=\\\"Vitesse\\\">ɸ</font>,\\n\\\\varphi  = <font size=\\\"5em\\\", face=\\\"Vitesse\\\">φ</font>\\n<br />\")"
      ]
     },
     "metadata": {},
     "output_type": "display_data"
    },
    {
     "data": {
      "text/html": [
       "    <font size=\"3em\", face=Zapfino>Zapfino</font>: \n",
       "\\phi     = <font size=\"5em\", face=\"Zapfino\">ϕ</font>,\n",
       "\\Phi     = <font size=\"5em\", face=\"Zapfino\">Φ</font>,\n",
       "\\textphi = <font size=\"5em\", face=\"Zapfino\">ɸ</font>,\n",
       "\\varphi  = <font size=\"5em\", face=\"Zapfino\">φ</font>\n",
       "<br />"
      ],
      "text/plain": [
       "HTML(\"    <font size=\\\"3em\\\", face=Zapfino>Zapfino</font>: \\n\\\\phi     = <font size=\\\"5em\\\", face=\\\"Zapfino\\\">ϕ</font>,\\n\\\\Phi     = <font size=\\\"5em\\\", face=\\\"Zapfino\\\">Φ</font>,\\n\\\\textphi = <font size=\\\"5em\\\", face=\\\"Zapfino\\\">ɸ</font>,\\n\\\\varphi  = <font size=\\\"5em\\\", face=\\\"Zapfino\\\">φ</font>\\n<br />\")"
      ]
     },
     "metadata": {},
     "output_type": "display_data"
    }
   ],
   "source": [
    "type HTML #stolen from an old @stevengj notebook and then stolen from @jiahao's github issue\n",
    "   s::String\n",
    "end\n",
    "\n",
    "import Base.show\n",
    "show(io::IO, ::MIME\"text/html\", x::HTML) = print(io, x.s)\n",
    "\n",
    "for font in [\"Helvetica\", \"Times\", \"Impact\", \"AnonymousPro\", \"Consolas\", \"Courier\", \"Courier New\", \n",
    "        \"DejaVuSansMono\", \"Inconsolata\", \"InputMono\", \"LucidaConsole\", \"Ubuntu Mono\", \"Menlo\", \n",
    "        \"Monaco\",\"Osaka\", \"PTMono-Regular\", \"LucidaSansUnicode\", \"Source Code Mono\", \n",
    "        \"TeX Gyre Cursor\", \"Vitesse\", \"Zapfino\"]\n",
    "    display(HTML(\"\"\"    <font size=\"3em\", face=$font>$font</font>: \n",
    "            \\\\phi     = <font size=\"5em\", face=\"$font\">ϕ</font>,\n",
    "            \\\\Phi     = <font size=\"5em\", face=\"$font\">Φ</font>,\n",
    "            \\\\textphi = <font size=\"5em\", face=\"$font\">ɸ</font>,\n",
    "            \\\\varphi  = <font size=\"5em\", face=\"$font\">φ</font>\n",
    "            <br />\"\"\"))\n",
    "end"
   ]
  },
  {
   "cell_type": "code",
   "execution_count": null,
   "metadata": {
    "collapsed": true
   },
   "outputs": [],
   "source": []
  }
 ],
 "metadata": {
  "kernelspec": {
   "display_name": "Julia 0.6.0",
   "language": "julia",
   "name": "julia-0.6"
  },
  "language_info": {
   "file_extension": ".jl",
   "mimetype": "application/julia",
   "name": "julia",
   "version": "0.6.0"
  }
 },
 "nbformat": 4,
 "nbformat_minor": 2
}
